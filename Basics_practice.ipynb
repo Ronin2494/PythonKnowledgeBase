{
 "cells": [
  {
   "cell_type": "code",
   "execution_count": 279,
   "id": "0ae1088c",
   "metadata": {},
   "outputs": [
    {
     "name": "stdout",
     "output_type": "stream",
     "text": [
      "[{'name': 'aaa', 'id': 11, 'sal': 100}, {'name': 'bbb', 'id': 23, 'sal': 99}, {'name': 'cc', 'id': 24, 'sal': 'null'}]\n",
      "[{'name': 'aaa', 'id': 11, 'sal': 100}, {'name': 'bbb', 'id': 23, 'sal': 99}, {'name': 'cc', 'id': 24, 'sal': 'null'}, {'name': 'aaa', 'id': 11, 'sal': 100}]\n"
     ]
    }
   ],
   "source": [
    "table = [\n",
    "    {   \"name\": \"aaa\", \"id\":11, \"sal\": 100},\n",
    "    { \"name\" : \"bbb\", \"id\": 23, \"sal\" : 99},\n",
    "    { \"name\": \"cc\", \"id\": 24, \"sal\": \"null\"}\n",
    "]    #created a list of dictionaries\n",
    "\n",
    "names = [row[\"name\"] for row in table]     \n",
    "\n",
    "ids = [row[\"id\"] for row in table]\n",
    "\n",
    "sals = [row[\"sal\"] for row in table]\n",
    "\n",
    "print(table)\n",
    "\n",
    "table.append({\"name\": \"aaa\", \"id\":11, \"sal\": 100})  #add new data to existing list using append method\n",
    "\n",
    "print(table)"
   ]
  },
  {
   "cell_type": "code",
   "execution_count": 280,
   "id": "72cdfe40",
   "metadata": {},
   "outputs": [
    {
     "data": {
      "text/plain": [
       "{'name': 'aaa', 'id': 11, 'sal': 100}"
      ]
     },
     "execution_count": 280,
     "metadata": {},
     "output_type": "execute_result"
    }
   ],
   "source": [
    "table.pop() #By default, it removes the pop method removes last item from the list"
   ]
  },
  {
   "cell_type": "code",
   "execution_count": 281,
   "id": "1a90704e",
   "metadata": {},
   "outputs": [
    {
     "name": "stdout",
     "output_type": "stream",
     "text": [
      "[{'name': 'aaa', 'id': 11, 'sal': 100}, {'name': 'bbb', 'id': 23, 'sal': 99}, {'name': 'cc', 'id': 24, 'sal': 'null'}]\n"
     ]
    }
   ],
   "source": [
    "print(table)"
   ]
  },
  {
   "cell_type": "code",
   "execution_count": 282,
   "id": "5ac5a77d",
   "metadata": {},
   "outputs": [
    {
     "data": {
      "text/plain": [
       "{'name': 'cc', 'id': 24, 'sal': 'null'}"
      ]
     },
     "execution_count": 282,
     "metadata": {},
     "output_type": "execute_result"
    }
   ],
   "source": [
    "table.pop()"
   ]
  },
  {
   "cell_type": "code",
   "execution_count": 12,
   "id": "e926d8c9",
   "metadata": {},
   "outputs": [
    {
     "name": "stdout",
     "output_type": "stream",
     "text": [
      "[{'name': 'aaa', 'id': 11, 'sal': 100}, {'name': 'bbb', 'id': 23, 'sal': 99}]\n"
     ]
    }
   ],
   "source": [
    "print(table)"
   ]
  },
  {
   "cell_type": "code",
   "execution_count": 275,
   "id": "20568633",
   "metadata": {},
   "outputs": [
    {
     "name": "stdout",
     "output_type": "stream",
     "text": [
      "['aaa', 'cc']\n"
     ]
    }
   ],
   "source": [
    "#give a specific condition\n",
    "for item in names: \n",
    "    if (item == 'bbb'):    \n",
    "        names.remove(item)\n",
    "        \n",
    "print(names)"
   ]
  },
  {
   "cell_type": "markdown",
   "id": "679749aa",
   "metadata": {},
   "source": [
    "# Pandas \n",
    "\n",
    "Pandas is a Python library used for working with data sets. It has functions for analyzing, cleaning, exploring, and manipulating data.\n",
    "\n",
    "You can check the documentation of Pandas using [Pandas Documentation](https://pandas.pydata.org/docs/)"
   ]
  },
  {
   "cell_type": "code",
   "execution_count": 17,
   "id": "1ad5064b",
   "metadata": {},
   "outputs": [
    {
     "name": "stdout",
     "output_type": "stream",
     "text": [
      "  name  id  sal\n",
      "0  aaa  11  100\n",
      "1  bbb  23   99\n",
      "2  ddd  33   98\n"
     ]
    }
   ],
   "source": [
    "import pandas as pd         \n",
    "\n",
    "df = pd.DataFrame(table, columns = [\"name\", \"id\", \"sal\"])       #create a DataFrame using pandas\n",
    "print(df)"
   ]
  },
  {
   "cell_type": "code",
   "execution_count": 39,
   "id": "e256142f",
   "metadata": {},
   "outputs": [
    {
     "name": "stdout",
     "output_type": "stream",
     "text": [
      "  name  id   sal\n",
      "0  bbb  23    99\n",
      "1  ccc  24  null\n",
      "2  aaa  11   100\n",
      "3  ddd  33    98\n",
      "4  ccc  24  null\n"
     ]
    },
    {
     "name": "stderr",
     "output_type": "stream",
     "text": [
      "/var/folders/g9/ls79zdln1rl3jp8k_g_4p6s00000gn/T/ipykernel_39482/1458322742.py:8: FutureWarning: The frame.append method is deprecated and will be removed from pandas in a future version. Use pandas.concat instead.\n",
      "  df = df.append(new_data, ignore_index = True)\n"
     ]
    }
   ],
   "source": [
    "new_data = {\n",
    "    \"name\": \"ccc\",\n",
    "    \"id\" : 24,\n",
    "    \"sal\" : \"null\"\n",
    "}\n",
    "\n",
    "\n",
    "df = df.append(new_data, ignore_index = True)      #add a new record to the dataframe, we could use concat method as well.\n",
    "\n",
    "print(df)"
   ]
  },
  {
   "cell_type": "code",
   "execution_count": 21,
   "id": "cedaef22",
   "metadata": {},
   "outputs": [
    {
     "name": "stdout",
     "output_type": "stream",
     "text": [
      "  name  id   sal\n",
      "1  bbb  23    99\n",
      "3  ccc  24  null\n"
     ]
    }
   ],
   "source": [
    "df1 = df.loc[(df['id'] >= 20) & (df['id'] <=30)]     #split a dataframe based on particular label condition\n",
    "df2 = df.loc[(df['id'] <20) | (df['id'] > 30)]\n",
    "\n",
    "print(df1)"
   ]
  },
  {
   "cell_type": "code",
   "execution_count": 22,
   "id": "bba9e6a4",
   "metadata": {},
   "outputs": [
    {
     "name": "stdout",
     "output_type": "stream",
     "text": [
      "  name  id  sal\n",
      "0  aaa  11  100\n",
      "2  ddd  33   98\n"
     ]
    }
   ],
   "source": [
    "print(df2)"
   ]
  },
  {
   "cell_type": "code",
   "execution_count": 25,
   "id": "e869f898",
   "metadata": {
    "scrolled": true
   },
   "outputs": [
    {
     "name": "stdout",
     "output_type": "stream",
     "text": [
      "  name  id   sal\n",
      "1  bbb  23    99\n",
      "3  ccc  24  null\n",
      "0  aaa  11   100\n",
      "2  ddd  33    98\n"
     ]
    }
   ],
   "source": [
    "df = pd.concat([df1, df2]) #concat method\n",
    "\n",
    "print(df)"
   ]
  },
  {
   "cell_type": "code",
   "execution_count": 66,
   "id": "7c79fef8",
   "metadata": {},
   "outputs": [
    {
     "name": "stdout",
     "output_type": "stream",
     "text": [
      "0    aa\n",
      "1    bb\n",
      "2    Bb\n",
      "3    dd\n",
      "Name: name, dtype: object\n"
     ]
    }
   ],
   "source": [
    "import pandas as pd                         \n",
    "\n",
    "df = pd.DataFrame({\n",
    "    \"name\": [\"aa\", \"bb\", \"Bb\", \"dd\"],\n",
    "    \"id\": [4, 5, 6, 10],\n",
    "    \"sal\": [10, 20, \"null\", 30]\n",
    "})\n",
    "\n",
    "print(df['name'])"
   ]
  },
  {
   "cell_type": "markdown",
   "id": "239e6864",
   "metadata": {},
   "source": [
    "**Note**: Here dtype is an object"
   ]
  },
  {
   "cell_type": "markdown",
   "id": "758a1b06",
   "metadata": {},
   "source": [
    "# Numpy \n",
    "\n",
    "You can check the documentation here [Numpy Documentation](https://numpy.org/doc/stable/user/whatisnumpy.html)"
   ]
  },
  {
   "cell_type": "code",
   "execution_count": 202,
   "id": "d0642805",
   "metadata": {},
   "outputs": [
    {
     "name": "stdout",
     "output_type": "stream",
     "text": [
      "[['aaa' 'bbb' 'ccc' 'dddd']\n",
      " [2 3 4 5]\n",
      " [1000 2000 <NA> 4000]]\n"
     ]
    }
   ],
   "source": [
    "import numpy as np                    \n",
    "name = [\"aaa\", \"bbb\", \"ccc\", \"dddd\"]\n",
    "id = [2,3,4,5]\n",
    "sal = [1000, 2000, pd.NA,4000]\n",
    "\n",
    "data = np.array([name, id, sal])\n",
    "\n",
    "print(data)"
   ]
  },
  {
   "cell_type": "code",
   "execution_count": 129,
   "id": "80ae9fdc",
   "metadata": {},
   "outputs": [
    {
     "data": {
      "text/plain": [
       "(3, 4)"
      ]
     },
     "execution_count": 129,
     "metadata": {},
     "output_type": "execute_result"
    }
   ],
   "source": [
    "data.shape"
   ]
  },
  {
   "cell_type": "code",
   "execution_count": 71,
   "id": "3e9b627b",
   "metadata": {},
   "outputs": [
    {
     "data": {
      "text/plain": [
       "array(['aaa', 'bbb', 'ccc', 'dddd'], dtype='<U21')"
      ]
     },
     "execution_count": 71,
     "metadata": {},
     "output_type": "execute_result"
    }
   ],
   "source": [
    "data[0]"
   ]
  },
  {
   "cell_type": "code",
   "execution_count": 72,
   "id": "1480a6ae",
   "metadata": {},
   "outputs": [
    {
     "data": {
      "text/plain": [
       "array(['2', '3', '4', '5'], dtype='<U21')"
      ]
     },
     "execution_count": 72,
     "metadata": {},
     "output_type": "execute_result"
    }
   ],
   "source": [
    "data[1]"
   ]
  },
  {
   "cell_type": "code",
   "execution_count": 73,
   "id": "89fbcdbb",
   "metadata": {},
   "outputs": [
    {
     "data": {
      "text/plain": [
       "array(['1000', '2000', '3000', '4000'], dtype='<U21')"
      ]
     },
     "execution_count": 73,
     "metadata": {},
     "output_type": "execute_result"
    }
   ],
   "source": [
    "data[2]"
   ]
  },
  {
   "cell_type": "code",
   "execution_count": 74,
   "id": "69ad61eb",
   "metadata": {},
   "outputs": [
    {
     "data": {
      "text/plain": [
       "'aaa'"
      ]
     },
     "execution_count": 74,
     "metadata": {},
     "output_type": "execute_result"
    }
   ],
   "source": [
    "data[0][0]"
   ]
  },
  {
   "cell_type": "code",
   "execution_count": 75,
   "id": "4387904f",
   "metadata": {},
   "outputs": [
    {
     "data": {
      "text/plain": [
       "'bbb'"
      ]
     },
     "execution_count": 75,
     "metadata": {},
     "output_type": "execute_result"
    }
   ],
   "source": [
    "data[0][1]"
   ]
  },
  {
   "cell_type": "code",
   "execution_count": 76,
   "id": "2be63680",
   "metadata": {},
   "outputs": [
    {
     "data": {
      "text/plain": [
       "'2'"
      ]
     },
     "execution_count": 76,
     "metadata": {},
     "output_type": "execute_result"
    }
   ],
   "source": [
    "data[1][0]"
   ]
  },
  {
   "cell_type": "code",
   "execution_count": 253,
   "id": "377b920d",
   "metadata": {},
   "outputs": [
    {
     "data": {
      "text/html": [
       "<div>\n",
       "<style scoped>\n",
       "    .dataframe tbody tr th:only-of-type {\n",
       "        vertical-align: middle;\n",
       "    }\n",
       "\n",
       "    .dataframe tbody tr th {\n",
       "        vertical-align: top;\n",
       "    }\n",
       "\n",
       "    .dataframe thead th {\n",
       "        text-align: right;\n",
       "    }\n",
       "</style>\n",
       "<table border=\"1\" class=\"dataframe\">\n",
       "  <thead>\n",
       "    <tr style=\"text-align: right;\">\n",
       "      <th></th>\n",
       "      <th>name</th>\n",
       "      <th>id</th>\n",
       "      <th>sal</th>\n",
       "    </tr>\n",
       "  </thead>\n",
       "  <tbody>\n",
       "    <tr>\n",
       "      <th>0</th>\n",
       "      <td>aaa</td>\n",
       "      <td>2</td>\n",
       "      <td>1000</td>\n",
       "    </tr>\n",
       "    <tr>\n",
       "      <th>1</th>\n",
       "      <td>bbb</td>\n",
       "      <td>3</td>\n",
       "      <td>2000</td>\n",
       "    </tr>\n",
       "    <tr>\n",
       "      <th>2</th>\n",
       "      <td>ccc</td>\n",
       "      <td>4</td>\n",
       "      <td>&lt;NA&gt;</td>\n",
       "    </tr>\n",
       "    <tr>\n",
       "      <th>3</th>\n",
       "      <td>dddd</td>\n",
       "      <td>5</td>\n",
       "      <td>4000</td>\n",
       "    </tr>\n",
       "  </tbody>\n",
       "</table>\n",
       "</div>"
      ],
      "text/plain": [
       "   name id   sal\n",
       "0   aaa  2  1000\n",
       "1   bbb  3  2000\n",
       "2   ccc  4  <NA>\n",
       "3  dddd  5  4000"
      ]
     },
     "execution_count": 253,
     "metadata": {},
     "output_type": "execute_result"
    }
   ],
   "source": [
    "student_data = pd.DataFrame({\n",
    "    'name' : data[0],\n",
    "    'id' : data[1],\n",
    "    'sal': data[2]\n",
    "})\n",
    "\n",
    "student_data"
   ]
  },
  {
   "cell_type": "code",
   "execution_count": 187,
   "id": "ce40cf21",
   "metadata": {},
   "outputs": [
    {
     "data": {
      "text/plain": [
       "name     ccc\n",
       "id         4\n",
       "sal     <NA>\n",
       "Name: 2, dtype: object"
      ]
     },
     "execution_count": 187,
     "metadata": {},
     "output_type": "execute_result"
    }
   ],
   "source": [
    "student_data.loc[2]"
   ]
  },
  {
   "cell_type": "code",
   "execution_count": 188,
   "id": "89ac0373",
   "metadata": {},
   "outputs": [
    {
     "data": {
      "text/html": [
       "<div>\n",
       "<style scoped>\n",
       "    .dataframe tbody tr th:only-of-type {\n",
       "        vertical-align: middle;\n",
       "    }\n",
       "\n",
       "    .dataframe tbody tr th {\n",
       "        vertical-align: top;\n",
       "    }\n",
       "\n",
       "    .dataframe thead th {\n",
       "        text-align: right;\n",
       "    }\n",
       "</style>\n",
       "<table border=\"1\" class=\"dataframe\">\n",
       "  <thead>\n",
       "    <tr style=\"text-align: right;\">\n",
       "      <th></th>\n",
       "      <th>name</th>\n",
       "      <th>id</th>\n",
       "      <th>sal</th>\n",
       "    </tr>\n",
       "  </thead>\n",
       "  <tbody>\n",
       "    <tr>\n",
       "      <th>1</th>\n",
       "      <td>bbb</td>\n",
       "      <td>3</td>\n",
       "      <td>2000</td>\n",
       "    </tr>\n",
       "    <tr>\n",
       "      <th>2</th>\n",
       "      <td>ccc</td>\n",
       "      <td>4</td>\n",
       "      <td>&lt;NA&gt;</td>\n",
       "    </tr>\n",
       "    <tr>\n",
       "      <th>3</th>\n",
       "      <td>dddd</td>\n",
       "      <td>5</td>\n",
       "      <td>4000</td>\n",
       "    </tr>\n",
       "  </tbody>\n",
       "</table>\n",
       "</div>"
      ],
      "text/plain": [
       "   name id   sal\n",
       "1   bbb  3  2000\n",
       "2   ccc  4  <NA>\n",
       "3  dddd  5  4000"
      ]
     },
     "execution_count": 188,
     "metadata": {},
     "output_type": "execute_result"
    }
   ],
   "source": [
    "student_data.loc[1:3]"
   ]
  },
  {
   "cell_type": "code",
   "execution_count": 189,
   "id": "1caff1e6",
   "metadata": {},
   "outputs": [
    {
     "data": {
      "text/html": [
       "<div>\n",
       "<style scoped>\n",
       "    .dataframe tbody tr th:only-of-type {\n",
       "        vertical-align: middle;\n",
       "    }\n",
       "\n",
       "    .dataframe tbody tr th {\n",
       "        vertical-align: top;\n",
       "    }\n",
       "\n",
       "    .dataframe thead th {\n",
       "        text-align: right;\n",
       "    }\n",
       "</style>\n",
       "<table border=\"1\" class=\"dataframe\">\n",
       "  <thead>\n",
       "    <tr style=\"text-align: right;\">\n",
       "      <th></th>\n",
       "      <th>name</th>\n",
       "      <th>id</th>\n",
       "      <th>sal</th>\n",
       "    </tr>\n",
       "  </thead>\n",
       "  <tbody>\n",
       "    <tr>\n",
       "      <th>1</th>\n",
       "      <td>bbb</td>\n",
       "      <td>3</td>\n",
       "      <td>2000</td>\n",
       "    </tr>\n",
       "    <tr>\n",
       "      <th>2</th>\n",
       "      <td>ccc</td>\n",
       "      <td>4</td>\n",
       "      <td>&lt;NA&gt;</td>\n",
       "    </tr>\n",
       "  </tbody>\n",
       "</table>\n",
       "</div>"
      ],
      "text/plain": [
       "  name id   sal\n",
       "1  bbb  3  2000\n",
       "2  ccc  4  <NA>"
      ]
     },
     "execution_count": 189,
     "metadata": {},
     "output_type": "execute_result"
    }
   ],
   "source": [
    "student_data.iloc[1:3]   "
   ]
  },
  {
   "cell_type": "code",
   "execution_count": 190,
   "id": "42bd467c",
   "metadata": {},
   "outputs": [
    {
     "data": {
      "text/plain": [
       "2"
      ]
     },
     "execution_count": 190,
     "metadata": {},
     "output_type": "execute_result"
    }
   ],
   "source": [
    "student_data.loc[0, 'id']"
   ]
  },
  {
   "cell_type": "code",
   "execution_count": 103,
   "id": "5dccf8b4",
   "metadata": {},
   "outputs": [],
   "source": [
    "student_data.loc[0] = 'null'"
   ]
  },
  {
   "cell_type": "markdown",
   "id": "29dbd485",
   "metadata": {},
   "source": [
    "# Difference b/w loc and iloc\n",
    "\n",
    "|  | loc | iloc |\n",
    "| --- | --- | --- |\n",
    "| Indexing method | Label-based | Integer-based |\n",
    "| Syntax | `df.loc[row_labels, column_labels]` | `df.iloc[row_positions, column_positions]` |\n",
    "| Row selection | Uses label names | Uses integer positions |\n",
    "| Column selection | Uses column names | Uses integer positions |\n",
    "| Slicing | Inclusive of both start and stop indices | Exclusive of the stop index |\n",
    "| Example | `df.loc['A', 'X']` selects the value at row 'A' and column 'X' | `df.iloc[0, 0]` selects the value at the first row and first column |\n",
    "| Performance | Slower when using labels due to additional label resolution step | Faster when using integers since it doesn't require label resolution |\n"
   ]
  },
  {
   "cell_type": "code",
   "execution_count": 204,
   "id": "40c2f45c",
   "metadata": {},
   "outputs": [
    {
     "name": "stdout",
     "output_type": "stream",
     "text": [
      "   name id   sal\n",
      "0   aaa  2  1000\n",
      "1   bbb  3  2000\n",
      "2   ccc  4  <NA>\n",
      "3  dddd  5  4000\n"
     ]
    }
   ],
   "source": [
    "print(student_data)"
   ]
  },
  {
   "cell_type": "code",
   "execution_count": 276,
   "id": "835b1dbd",
   "metadata": {},
   "outputs": [],
   "source": [
    "student_data = student_data.isnull()  #to find out missing values"
   ]
  },
  {
   "cell_type": "code",
   "execution_count": 277,
   "id": "5c7ffe2c",
   "metadata": {},
   "outputs": [
    {
     "name": "stdout",
     "output_type": "stream",
     "text": [
      "    name     id    sal\n",
      "0  False  False  False\n",
      "1  False  False  False\n",
      "2  False  False   True\n",
      "3  False  False  False\n"
     ]
    }
   ],
   "source": [
    "print(student_data)"
   ]
  },
  {
   "cell_type": "code",
   "execution_count": 191,
   "id": "aae15502",
   "metadata": {},
   "outputs": [
    {
     "name": "stdout",
     "output_type": "stream",
     "text": [
      "   name id   sal\n",
      "0   aaa  2  1000\n",
      "1   bbb  3  2000\n",
      "2   ccc  4  <NA>\n",
      "3  dddd  5  4000\n"
     ]
    }
   ],
   "source": [
    "print(student_data)"
   ]
  },
  {
   "cell_type": "code",
   "execution_count": 151,
   "id": "d9b7f38f",
   "metadata": {},
   "outputs": [
    {
     "data": {
      "text/plain": [
       "(4, 3)"
      ]
     },
     "execution_count": 151,
     "metadata": {},
     "output_type": "execute_result"
    }
   ],
   "source": [
    "student_data.shape"
   ]
  },
  {
   "cell_type": "code",
   "execution_count": 207,
   "id": "d448e103",
   "metadata": {},
   "outputs": [
    {
     "name": "stdout",
     "output_type": "stream",
     "text": [
      "   name id   sal\n",
      "0   aaa  2  1000\n",
      "1   bbb  3  2000\n",
      "2   ccc  4   NaN\n",
      "3  dddd  5  4000\n"
     ]
    }
   ],
   "source": [
    "print(student_data)"
   ]
  },
  {
   "cell_type": "code",
   "execution_count": 169,
   "id": "116b1d3c",
   "metadata": {},
   "outputs": [],
   "source": [
    "student_data['sal'] = student_data['sal'].replace(\"null\", pd.NA)     #if null is given as a string, replace it with NA first"
   ]
  },
  {
   "cell_type": "code",
   "execution_count": 197,
   "id": "cb42a06f",
   "metadata": {},
   "outputs": [
    {
     "name": "stdout",
     "output_type": "stream",
     "text": [
      "   name id   sal\n",
      "0   aaa  2  1000\n",
      "1   bbb  3  2000\n",
      "2   ccc  4     0\n",
      "3  dddd  5  4000\n"
     ]
    }
   ],
   "source": [
    "print(student_data)"
   ]
  },
  {
   "cell_type": "code",
   "execution_count": 244,
   "id": "627cac69",
   "metadata": {},
   "outputs": [],
   "source": [
    "student_data['sal'] = (student_data['sal'].dropna())    #drop null values"
   ]
  },
  {
   "cell_type": "code",
   "execution_count": 245,
   "id": "c3c29e16",
   "metadata": {},
   "outputs": [
    {
     "name": "stdout",
     "output_type": "stream",
     "text": [
      "   name id   sal\n",
      "0   aaa  2  1000\n",
      "1   bbb  3  2000\n",
      "2   ccc  4   NaN\n",
      "3  dddd  5  4000\n"
     ]
    }
   ],
   "source": [
    "print(student_data)"
   ]
  },
  {
   "cell_type": "code",
   "execution_count": 246,
   "id": "0caa3ff5",
   "metadata": {},
   "outputs": [],
   "source": [
    "student_data['sal'] = student_data['sal'].fillna(student_data['sal'].mean()).round(2) #fill null values with some other meaningful value like mean of the data of that column."
   ]
  },
  {
   "cell_type": "code",
   "execution_count": 247,
   "id": "fa55c329",
   "metadata": {},
   "outputs": [
    {
     "name": "stdout",
     "output_type": "stream",
     "text": [
      "   name id      sal\n",
      "0   aaa  2  1000.00\n",
      "1   bbb  3  2000.00\n",
      "2   ccc  4  2333.33\n",
      "3  dddd  5  4000.00\n"
     ]
    }
   ],
   "source": [
    "print(student_data)"
   ]
  },
  {
   "cell_type": "code",
   "execution_count": 248,
   "id": "62d41c99",
   "metadata": {},
   "outputs": [],
   "source": [
    "student_data['sal'] = student_data['sal'].astype(int) #convert float types to integer using astype()"
   ]
  },
  {
   "cell_type": "code",
   "execution_count": 249,
   "id": "bbfb54af",
   "metadata": {},
   "outputs": [
    {
     "name": "stdout",
     "output_type": "stream",
     "text": [
      "   name id   sal\n",
      "0   aaa  2  1000\n",
      "1   bbb  3  2000\n",
      "2   ccc  4  2333\n",
      "3  dddd  5  4000\n"
     ]
    }
   ],
   "source": [
    "print(student_data)"
   ]
  },
  {
   "cell_type": "code",
   "execution_count": 229,
   "id": "26e7776e",
   "metadata": {},
   "outputs": [],
   "source": [
    "new_data = [{\"name\": \"aaaaa\", \"id\": 5, \"sal\": 100000}]\n",
    "\n",
    "df1 = pd.DataFrame(new_data, columns = ['name', 'id', 'sal'])"
   ]
  },
  {
   "cell_type": "code",
   "execution_count": 230,
   "id": "8c4269b9",
   "metadata": {},
   "outputs": [
    {
     "name": "stdout",
     "output_type": "stream",
     "text": [
      "    name  id     sal\n",
      "0  aaaaa   5  100000\n"
     ]
    }
   ],
   "source": [
    "print(df1)"
   ]
  },
  {
   "cell_type": "code",
   "execution_count": 238,
   "id": "382ca3d4",
   "metadata": {},
   "outputs": [
    {
     "name": "stdout",
     "output_type": "stream",
     "text": [
      "    name  id     sal   name   id       sal\n",
      "0    aaa   2    1000  aaaaa  5.0  100000.0\n",
      "1    bbb   3    2000    NaN  NaN       NaN\n",
      "2    ccc   4    2333    NaN  NaN       NaN\n",
      "3   dddd   5    4000    NaN  NaN       NaN\n",
      "0  aaaaa   5  100000  aaaaa  5.0  100000.0\n",
      "0  aaaaa   5  100000  aaaaa  5.0  100000.0\n"
     ]
    }
   ],
   "source": [
    "print(student_data)"
   ]
  },
  {
   "cell_type": "markdown",
   "id": "9cbba4c6",
   "metadata": {},
   "source": [
    "## Concat method for adding a new record to existing dataframe"
   ]
  },
  {
   "cell_type": "code",
   "execution_count": 251,
   "id": "a540c0ec",
   "metadata": {},
   "outputs": [
    {
     "name": "stdout",
     "output_type": "stream",
     "text": [
      "   name id   sal\n",
      "0   aaa  2  1000\n",
      "1   bbb  3  2000\n",
      "2   ccc  4  2333\n",
      "3  dddd  5  4000\n",
      "4   eee  6  5000\n"
     ]
    }
   ],
   "source": [
    "new_data = {\n",
    "    \"name\": \"eee\",\n",
    "    \"id\": 6,\n",
    "    \"sal\": 5000\n",
    "}\n",
    "\n",
    "df2 = pd.DataFrame([new_data])    #new dataframe created for new record\n",
    "\n",
    "# concatenate original dataframe and new dataframe\n",
    "df = pd.concat([student_data, df2], ignore_index=True)\n",
    "\n",
    "print(df)"
   ]
  },
  {
   "cell_type": "code",
   "execution_count": 254,
   "id": "a1469a8d",
   "metadata": {},
   "outputs": [
    {
     "name": "stdout",
     "output_type": "stream",
     "text": [
      "   name id   sal\n",
      "0   aaa  2  1000\n",
      "1   bbb  3  2000\n",
      "2   ccc  4  2333\n",
      "3  dddd  5  4000\n",
      "4   eee  6  5000\n"
     ]
    }
   ],
   "source": [
    "print(df)"
   ]
  },
  {
   "cell_type": "markdown",
   "id": "af6c3a70",
   "metadata": {},
   "source": [
    "# Query methods\n",
    "\n",
    "There are several ways to query and filter data in a pandas DataFrame or Series. Here are some of the most common query methods in pandas:\n",
    "\n",
    "1. df.loc[] and df.iloc[]: As discussed earlier, these methods are used to select rows and columns from a DataFrame or Series based on label or integer position.\n",
    "\n",
    "2. Boolean indexing: This method involves using a boolean condition to select specific rows or columns from a DataFrame or Series. For example, you can use the syntax df[df['column_name'] > 5] to select rows where the value in 'column_name' is greater than 5.\n",
    "\n",
    "3. df.query(): This method allows you to filter rows from a DataFrame using a string of boolean expressions. For example, you can use the syntax df.query('column_name > 5') to select rows where the value in 'column_name' is greater than 5.\n",
    "\n",
    "4. df.filter(): This method is used to select a subset of columns from a DataFrame based on their label or data type. For example, you can use the syntax df.filter(items=['col1', 'col2']) to select only columns 'col1' and 'col2'.\n",
    "\n",
    "5. df.groupby(): This method is used to group rows in a DataFrame by one or more columns and apply a function to each group. For example, you can use the syntax df.groupby('column_name').mean() to group rows by the unique values in 'column_name' and calculate the mean of each group.\n",
    "\n",
    "6. df.merge(): This method is used to combine two or more DataFrames based on a common column or index. For example, you can use the syntax df1.merge(df2, on='column_name') to merge two DataFrames on the column 'column_name'."
   ]
  },
  {
   "cell_type": "code",
   "execution_count": 258,
   "id": "d46fdd14",
   "metadata": {},
   "outputs": [],
   "source": [
    "df = df.drop(df.query('id == 4').index)     "
   ]
  },
  {
   "cell_type": "code",
   "execution_count": 259,
   "id": "099b34e8",
   "metadata": {},
   "outputs": [
    {
     "name": "stdout",
     "output_type": "stream",
     "text": [
      "   name id   sal\n",
      "0   aaa  2  1000\n",
      "1   bbb  3  2000\n",
      "3  dddd  5  4000\n",
      "4   eee  6  5000\n"
     ]
    }
   ],
   "source": [
    "print(df)"
   ]
  },
  {
   "cell_type": "code",
   "execution_count": 260,
   "id": "575a251e",
   "metadata": {},
   "outputs": [
    {
     "name": "stdout",
     "output_type": "stream",
     "text": [
      "[['a' 'b']\n",
      " ['1' '2']\n",
      " ['3' '4']]\n"
     ]
    }
   ],
   "source": [
    "import numpy as np\n",
    "\n",
    "name = ['a','b']\n",
    "id = [1,2]\n",
    "sal = [3,4]\n",
    "\n",
    "data = np.array([name, id, sal])\n",
    "\n",
    "print (data)"
   ]
  },
  {
   "cell_type": "code",
   "execution_count": 268,
   "id": "89ae8d1f",
   "metadata": {},
   "outputs": [],
   "source": [
    "df = pd.DataFrame({\n",
    "    'name' : data[0],\n",
    "    'id' : data[1],\n",
    "    'sal' : data[2]\n",
    "}, index = [1,2])"
   ]
  },
  {
   "cell_type": "code",
   "execution_count": 269,
   "id": "24a8b1e8",
   "metadata": {},
   "outputs": [
    {
     "name": "stdout",
     "output_type": "stream",
     "text": [
      "  name id sal\n",
      "1    a  1   3\n",
      "2    b  2   4\n"
     ]
    }
   ],
   "source": [
    "print(df)"
   ]
  },
  {
   "cell_type": "code",
   "execution_count": 270,
   "id": "a2ae5ae7",
   "metadata": {},
   "outputs": [
    {
     "name": "stdout",
     "output_type": "stream",
     "text": [
      "  name id sal\n",
      "1    a  1   3\n",
      "2    b  2   4\n"
     ]
    }
   ],
   "source": [
    "df = df.drop_duplicates(subset=['name', 'id'])\n",
    "print(df)"
   ]
  },
  {
   "cell_type": "code",
   "execution_count": 273,
   "id": "69e1c987",
   "metadata": {},
   "outputs": [
    {
     "name": "stdout",
     "output_type": "stream",
     "text": [
      "\n"
     ]
    }
   ],
   "source": [
    "R = \"linkedin\""
   ]
  },
  {
   "cell_type": "code",
   "execution_count": 274,
   "id": "58e159b8",
   "metadata": {},
   "outputs": [
    {
     "name": "stdout",
     "output_type": "stream",
     "text": [
      "\n"
     ]
    }
   ],
   "source": [
    "print(R[4:-4])"
   ]
  }
 ],
 "metadata": {
  "kernelspec": {
   "display_name": "Python 3 (ipykernel)",
   "language": "python",
   "name": "python3"
  },
  "language_info": {
   "codemirror_mode": {
    "name": "ipython",
    "version": 3
   },
   "file_extension": ".py",
   "mimetype": "text/x-python",
   "name": "python",
   "nbconvert_exporter": "python",
   "pygments_lexer": "ipython3",
   "version": "3.9.13"
  }
 },
 "nbformat": 4,
 "nbformat_minor": 5
}
